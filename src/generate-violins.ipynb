{
 "cells": [
  {
   "cell_type": "code",
   "execution_count": 1,
   "metadata": {},
   "outputs": [],
   "source": [
    "import pandas as pd\n",
    "import numpy as np\n",
    "import joblib\n",
    "import altair as alt"
   ]
  },
  {
   "cell_type": "code",
   "execution_count": 2,
   "metadata": {},
   "outputs": [],
   "source": [
    "runlog = joblib.load('results2.joblib')"
   ]
  },
  {
   "cell_type": "code",
   "execution_count": 3,
   "metadata": {},
   "outputs": [],
   "source": [
    "runlog = pd.DataFrame(runlog)"
   ]
  },
  {
   "cell_type": "code",
   "execution_count": 4,
   "metadata": {},
   "outputs": [],
   "source": [
    "runlog = runlog.melt(var_name=\"Run\", value_name=\"Mean_Accuracy\")"
   ]
  },
  {
   "cell_type": "code",
   "execution_count": 5,
   "metadata": {},
   "outputs": [
    {
     "data": {
      "text/plain": [
       "array(['5 Features', '10 Features', '15 Features', '20 Features',\n",
       "       '25 Features', '30 Features', '35 Features', '40 Features',\n",
       "       '45 Features', '50 Features', '55 Features', '60 Features',\n",
       "       '65 Features', '70 Features', '75 Features', '80 Features',\n",
       "       '85 Features', '90 Features', '95 Features', '100 Features'],\n",
       "      dtype=object)"
      ]
     },
     "execution_count": 5,
     "metadata": {},
     "output_type": "execute_result"
    }
   ],
   "source": [
    "runlog['Run'].unique()"
   ]
  },
  {
   "cell_type": "code",
   "execution_count": 6,
   "metadata": {},
   "outputs": [],
   "source": [
    "order = list(range(1, len(runlog['Run'].unique())+1))"
   ]
  },
  {
   "cell_type": "code",
   "execution_count": 7,
   "metadata": {},
   "outputs": [],
   "source": [
    "order_dict = {x: y for x, y in zip(runlog['Run'].unique(), order)}"
   ]
  },
  {
   "cell_type": "code",
   "execution_count": 8,
   "metadata": {},
   "outputs": [],
   "source": [
    "runlog['Order'] = runlog['Run'].map(order_dict)"
   ]
  },
  {
   "cell_type": "code",
   "execution_count": 9,
   "metadata": {},
   "outputs": [],
   "source": [
    "sort_order = list(runlog['Run'].unique())"
   ]
  },
  {
   "cell_type": "code",
   "execution_count": 10,
   "metadata": {},
   "outputs": [
    {
     "data": {
      "text/plain": [
       "['5 Features',\n",
       " '10 Features',\n",
       " '15 Features',\n",
       " '20 Features',\n",
       " '25 Features',\n",
       " '30 Features',\n",
       " '35 Features',\n",
       " '40 Features',\n",
       " '45 Features',\n",
       " '50 Features',\n",
       " '55 Features',\n",
       " '60 Features',\n",
       " '65 Features',\n",
       " '70 Features',\n",
       " '75 Features',\n",
       " '80 Features',\n",
       " '85 Features',\n",
       " '90 Features',\n",
       " '95 Features',\n",
       " '100 Features']"
      ]
     },
     "execution_count": 10,
     "metadata": {},
     "output_type": "execute_result"
    }
   ],
   "source": [
    "sort_order"
   ]
  },
  {
   "cell_type": "code",
   "execution_count": 11,
   "metadata": {},
   "outputs": [
    {
     "data": {
      "application/vnd.vegalite.v3+json": {
       "$schema": "https://vega.github.io/schema/vega-lite/v3.4.0.json",
       "config": {
        "mark": {
         "tooltip": null
        },
        "view": {
         "height": 300,
         "width": 400
        }
       },
       "data": {
        "name": "data-8493c83b8c75e0fe7d6b09dce866f545"
       },
       "datasets": {
        "data-8493c83b8c75e0fe7d6b09dce866f545": [
         {
          "Mean_Accuracy": 0.5490196078431373,
          "Order": 1,
          "Run": "5 Features"
         },
         {
          "Mean_Accuracy": 0.36,
          "Order": 1,
          "Run": "5 Features"
         },
         {
          "Mean_Accuracy": 0.5510204081632653,
          "Order": 1,
          "Run": "5 Features"
         },
         {
          "Mean_Accuracy": 0.5098039215686274,
          "Order": 2,
          "Run": "10 Features"
         },
         {
          "Mean_Accuracy": 0.4,
          "Order": 2,
          "Run": "10 Features"
         },
         {
          "Mean_Accuracy": 0.42857142857142855,
          "Order": 2,
          "Run": "10 Features"
         },
         {
          "Mean_Accuracy": 0.4117647058823529,
          "Order": 3,
          "Run": "15 Features"
         },
         {
          "Mean_Accuracy": 0.36,
          "Order": 3,
          "Run": "15 Features"
         },
         {
          "Mean_Accuracy": 0.4897959183673469,
          "Order": 3,
          "Run": "15 Features"
         },
         {
          "Mean_Accuracy": 0.4117647058823529,
          "Order": 4,
          "Run": "20 Features"
         },
         {
          "Mean_Accuracy": 0.46,
          "Order": 4,
          "Run": "20 Features"
         },
         {
          "Mean_Accuracy": 0.46938775510204084,
          "Order": 4,
          "Run": "20 Features"
         },
         {
          "Mean_Accuracy": 0.47058823529411764,
          "Order": 5,
          "Run": "25 Features"
         },
         {
          "Mean_Accuracy": 0.4,
          "Order": 5,
          "Run": "25 Features"
         },
         {
          "Mean_Accuracy": 0.5102040816326531,
          "Order": 5,
          "Run": "25 Features"
         },
         {
          "Mean_Accuracy": 0.4117647058823529,
          "Order": 6,
          "Run": "30 Features"
         },
         {
          "Mean_Accuracy": 0.5,
          "Order": 6,
          "Run": "30 Features"
         },
         {
          "Mean_Accuracy": 0.5510204081632653,
          "Order": 6,
          "Run": "30 Features"
         },
         {
          "Mean_Accuracy": 0.43137254901960786,
          "Order": 7,
          "Run": "35 Features"
         },
         {
          "Mean_Accuracy": 0.48,
          "Order": 7,
          "Run": "35 Features"
         },
         {
          "Mean_Accuracy": 0.5102040816326531,
          "Order": 7,
          "Run": "35 Features"
         },
         {
          "Mean_Accuracy": 0.47058823529411764,
          "Order": 8,
          "Run": "40 Features"
         },
         {
          "Mean_Accuracy": 0.54,
          "Order": 8,
          "Run": "40 Features"
         },
         {
          "Mean_Accuracy": 0.5510204081632653,
          "Order": 8,
          "Run": "40 Features"
         },
         {
          "Mean_Accuracy": 0.5490196078431373,
          "Order": 9,
          "Run": "45 Features"
         },
         {
          "Mean_Accuracy": 0.54,
          "Order": 9,
          "Run": "45 Features"
         },
         {
          "Mean_Accuracy": 0.5510204081632653,
          "Order": 9,
          "Run": "45 Features"
         },
         {
          "Mean_Accuracy": 0.5490196078431373,
          "Order": 10,
          "Run": "50 Features"
         },
         {
          "Mean_Accuracy": 0.58,
          "Order": 10,
          "Run": "50 Features"
         },
         {
          "Mean_Accuracy": 0.5306122448979592,
          "Order": 10,
          "Run": "50 Features"
         },
         {
          "Mean_Accuracy": 0.47058823529411764,
          "Order": 11,
          "Run": "55 Features"
         },
         {
          "Mean_Accuracy": 0.44,
          "Order": 11,
          "Run": "55 Features"
         },
         {
          "Mean_Accuracy": 0.5306122448979592,
          "Order": 11,
          "Run": "55 Features"
         },
         {
          "Mean_Accuracy": 0.4117647058823529,
          "Order": 12,
          "Run": "60 Features"
         },
         {
          "Mean_Accuracy": 0.44,
          "Order": 12,
          "Run": "60 Features"
         },
         {
          "Mean_Accuracy": 0.5306122448979592,
          "Order": 12,
          "Run": "60 Features"
         },
         {
          "Mean_Accuracy": 0.5098039215686274,
          "Order": 13,
          "Run": "65 Features"
         },
         {
          "Mean_Accuracy": 0.42,
          "Order": 13,
          "Run": "65 Features"
         },
         {
          "Mean_Accuracy": 0.5306122448979592,
          "Order": 13,
          "Run": "65 Features"
         },
         {
          "Mean_Accuracy": 0.47058823529411764,
          "Order": 14,
          "Run": "70 Features"
         },
         {
          "Mean_Accuracy": 0.44,
          "Order": 14,
          "Run": "70 Features"
         },
         {
          "Mean_Accuracy": 0.4897959183673469,
          "Order": 14,
          "Run": "70 Features"
         },
         {
          "Mean_Accuracy": 0.47058823529411764,
          "Order": 15,
          "Run": "75 Features"
         },
         {
          "Mean_Accuracy": 0.54,
          "Order": 15,
          "Run": "75 Features"
         },
         {
          "Mean_Accuracy": 0.5306122448979592,
          "Order": 15,
          "Run": "75 Features"
         },
         {
          "Mean_Accuracy": 0.43137254901960786,
          "Order": 16,
          "Run": "80 Features"
         },
         {
          "Mean_Accuracy": 0.44,
          "Order": 16,
          "Run": "80 Features"
         },
         {
          "Mean_Accuracy": 0.5306122448979592,
          "Order": 16,
          "Run": "80 Features"
         },
         {
          "Mean_Accuracy": 0.5294117647058824,
          "Order": 17,
          "Run": "85 Features"
         },
         {
          "Mean_Accuracy": 0.54,
          "Order": 17,
          "Run": "85 Features"
         },
         {
          "Mean_Accuracy": 0.5510204081632653,
          "Order": 17,
          "Run": "85 Features"
         },
         {
          "Mean_Accuracy": 0.5294117647058824,
          "Order": 18,
          "Run": "90 Features"
         },
         {
          "Mean_Accuracy": 0.46,
          "Order": 18,
          "Run": "90 Features"
         },
         {
          "Mean_Accuracy": 0.5102040816326531,
          "Order": 18,
          "Run": "90 Features"
         },
         {
          "Mean_Accuracy": 0.5294117647058824,
          "Order": 19,
          "Run": "95 Features"
         },
         {
          "Mean_Accuracy": 0.44,
          "Order": 19,
          "Run": "95 Features"
         },
         {
          "Mean_Accuracy": 0.5306122448979592,
          "Order": 19,
          "Run": "95 Features"
         },
         {
          "Mean_Accuracy": 0.5294117647058824,
          "Order": 20,
          "Run": "100 Features"
         },
         {
          "Mean_Accuracy": 0.44,
          "Order": 20,
          "Run": "100 Features"
         },
         {
          "Mean_Accuracy": 0.5306122448979592,
          "Order": 20,
          "Run": "100 Features"
         }
        ]
       },
       "encoding": {
        "x": {
         "field": "Run",
         "sort": [
          "5 Features",
          "10 Features",
          "15 Features",
          "20 Features",
          "25 Features",
          "30 Features",
          "35 Features",
          "40 Features",
          "45 Features",
          "50 Features",
          "55 Features",
          "60 Features",
          "65 Features",
          "70 Features",
          "75 Features",
          "80 Features",
          "85 Features",
          "90 Features",
          "95 Features",
          "100 Features"
         ],
         "type": "nominal"
        },
        "y": {
         "field": "Mean_Accuracy",
         "type": "quantitative"
        }
       },
       "mark": "boxplot"
      },
      "image/png": "[encoded data removed]",
      "text/plain": [
       "<VegaLite 3 object>\n",
       "\n",
       "If you see this message, it means the renderer has not been properly enabled\n",
       "for the frontend that you are using. For more information, see\n",
       "https://altair-viz.github.io/user_guide/troubleshooting.html\n"
      ]
     },
     "execution_count": 11,
     "metadata": {},
     "output_type": "execute_result"
    }
   ],
   "source": [
    "alt.Chart(runlog).mark_boxplot().encode(\n",
    "    x=alt.X(\"Run\", sort=sort_order),\n",
    "    y=\"Mean_Accuracy\"\n",
    ")"
   ]
  },
  {
   "cell_type": "code",
   "execution_count": 12,
   "metadata": {},
   "outputs": [],
   "source": [
    "import matplotlib.pyplot as plt\n",
    "import seaborn as sns"
   ]
  },
  {
   "cell_type": "code",
   "execution_count": 15,
   "metadata": {},
   "outputs": [
    {
     "data": {
      "image/png": "[encoded data removed]",
      "text/plain": [
       "<Figure size 648x504 with 1 Axes>"
      ]
     },
     "metadata": {
      "needs_background": "light"
     },
     "output_type": "display_data"
    }
   ],
   "source": [
    "fig, ax = plt.subplots(figsize=(9,7))\n",
    "sns.stripplot(x=\"Run\", y=\"Mean_Accuracy\", data=runlog)\n",
    "plt.xticks(rotation=90)\n",
    "plt.ylim(0,1)\n",
    "plt.axhline(.5, linestyle='--', color='r')\n",
    "plt.ylabel(\"Mean Accuracy per Repeat\")\n",
    "plt.title(\"Mean Repeat Accuracy vs Features in Entire Dataset, Random Data and Classes\")\n",
    "plt.tight_layout()\n",
    "plt.savefig(\"20191125_benchmark_b.png\")"
   ]
  },
  {
   "cell_type": "code",
   "execution_count": null,
   "metadata": {},
   "outputs": [],
   "source": []
  }
 ],
 "metadata": {
  "kernelspec": {
   "display_name": "Python 3",
   "language": "python",
   "name": "python3"
  },
  "language_info": {
   "codemirror_mode": {
    "name": "ipython",
    "version": 3
   },
   "file_extension": ".py",
   "mimetype": "text/x-python",
   "name": "python",
   "nbconvert_exporter": "python",
   "pygments_lexer": "ipython3",
   "version": "3.7.3"
  }
 },
 "nbformat": 4,
 "nbformat_minor": 4
}
